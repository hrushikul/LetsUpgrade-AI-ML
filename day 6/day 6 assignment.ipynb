{
 "cells": [
  {
   "cell_type": "markdown",
   "metadata": {},
   "source": [
    "## Question 1\n",
    "### printing company name from email address"
   ]
  },
  {
   "cell_type": "code",
   "execution_count": 23,
   "metadata": {},
   "outputs": [
    {
     "name": "stdout",
     "output_type": "stream",
     "text": [
      "john@google.com\n",
      "company name is:  google\n"
     ]
    }
   ],
   "source": [
    "s = input()\n",
    "f = s.split('@')\n",
    "d = f[1]\n",
    "e = d.split('.')\n",
    "print('company name is: ',e[0])\n"
   ]
  },
  {
   "cell_type": "markdown",
   "metadata": {},
   "source": [
    "## Question 2\n",
    "### print word separated sequence after sorting alphabetically"
   ]
  },
  {
   "cell_type": "code",
   "execution_count": 37,
   "metadata": {},
   "outputs": [
    {
     "name": "stdout",
     "output_type": "stream",
     "text": [
      "enter strings separated with commas: cat,book,ant,pen,bottle,phone,switch,fan\n",
      "the sorted strings are: \n",
      "ant,book,bottle,cat,fan,pen,phone,switch,"
     ]
    }
   ],
   "source": [
    "a = input('enter strings separated with commas: ')\n",
    "b = a.split(',')\n",
    "c = sorted(b)\n",
    "print('the sorted strings are: ')\n",
    "for i in c:\n",
    "    print(i,end=',')"
   ]
  },
  {
   "cell_type": "markdown",
   "metadata": {},
   "source": [
    "## Question 3\n",
    "### DOne and uploaded as a separate notebook file"
   ]
  },
  {
   "cell_type": "markdown",
   "metadata": {},
   "source": [
    "## Question 4\n",
    "### print the missing number"
   ]
  },
  {
   "cell_type": "code",
   "execution_count": 53,
   "metadata": {},
   "outputs": [
    {
     "name": "stdout",
     "output_type": "stream",
     "text": [
      "1 2 4 6 3  7 8\n",
      "The nmissing number is: 5\n"
     ]
    }
   ],
   "source": [
    "a = input()\n",
    "b = a.split()\n",
    "c = sorted(b)\n",
    "\n",
    "for j in range(len(c)):\n",
    "    c[j] = int(c[j])\n",
    "\n",
    "for i in range(min(c),max(c),1):\n",
    "    if i in c:\n",
    "        continue\n",
    "    else:\n",
    "        break\n",
    "\n",
    "print('The nmissing number is:',i)"
   ]
  },
  {
   "cell_type": "markdown",
   "metadata": {},
   "source": [
    "## Question 5\n",
    "### removing duplicate items in list"
   ]
  },
  {
   "cell_type": "code",
   "execution_count": 140,
   "metadata": {},
   "outputs": [
    {
     "name": "stdout",
     "output_type": "stream",
     "text": [
      " Enter a list: 12 24 35 24 88 120 155 88 120 155\n",
      "[12, 24, 35, 88, 120, 155]\n"
     ]
    }
   ],
   "source": [
    "a = input(' Enter a list: ')\n",
    "b = a.split()\n",
    "c = []\n",
    "\n",
    "for i in range(len(b)):\n",
    "    b[i] = int(b[i])\n",
    "\n",
    "for i in b:\n",
    "    if i not in c:\n",
    "        c.append(i)\n",
    "\n",
    "print(c)"
   ]
  }
 ],
 "metadata": {
  "kernelspec": {
   "display_name": "Python 3",
   "language": "python",
   "name": "python3"
  },
  "language_info": {
   "codemirror_mode": {
    "name": "ipython",
    "version": 3
   },
   "file_extension": ".py",
   "mimetype": "text/x-python",
   "name": "python",
   "nbconvert_exporter": "python",
   "pygments_lexer": "ipython3",
   "version": "3.8.3"
  }
 },
 "nbformat": 4,
 "nbformat_minor": 4
}
