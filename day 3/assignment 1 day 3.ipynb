{
 "cells": [
  {
   "cell_type": "markdown",
   "metadata": {},
   "source": [
    "1. program to subtract two complex numbers"
   ]
  },
  {
   "cell_type": "code",
   "execution_count": 1,
   "metadata": {},
   "outputs": [
    {
     "name": "stdout",
     "output_type": "stream",
     "text": [
      "(-1+1j)\n"
     ]
    }
   ],
   "source": [
    "a = 5 + 9j\n",
    "b = 6 + 8j\n",
    "print(a-b)"
   ]
  },
  {
   "cell_type": "markdown",
   "metadata": {},
   "source": [
    "2. program to find fourth root of a number"
   ]
  },
  {
   "cell_type": "code",
   "execution_count": 3,
   "metadata": {},
   "outputs": [
    {
     "name": "stdout",
     "output_type": "stream",
     "text": [
      "2.7355647997347607\n"
     ]
    }
   ],
   "source": [
    "c = 56\n",
    "d = c ** 0.25\n",
    "print(d)"
   ]
  },
  {
   "cell_type": "markdown",
   "metadata": {},
   "source": [
    "3. program to swap 2 numbers"
   ]
  },
  {
   "cell_type": "code",
   "execution_count": 4,
   "metadata": {},
   "outputs": [
    {
     "name": "stdout",
     "output_type": "stream",
     "text": [
      "num1 = 89 num2 = 56\n"
     ]
    }
   ],
   "source": [
    "num1 = 56\n",
    "num2 = 89\n",
    "dummy = num1\n",
    "num1 = num2\n",
    "num2 = dummy\n",
    "print('num1 =',num1,'num2 =',num2)"
   ]
  },
  {
   "cell_type": "markdown",
   "metadata": {},
   "source": [
    "4. swap 2 numbers without a temporary variable"
   ]
  },
  {
   "cell_type": "code",
   "execution_count": 6,
   "metadata": {},
   "outputs": [
    {
     "name": "stdout",
     "output_type": "stream",
     "text": [
      "i = 63 j = 89\n"
     ]
    }
   ],
   "source": [
    "i = 89\n",
    "j = 63\n",
    "(i,j) = (j,i)\n",
    "print('i =',i,'j =',j)"
   ]
  },
  {
   "cell_type": "markdown",
   "metadata": {},
   "source": [
    "5. converting fahrenheit to celsius and kelvin"
   ]
  },
  {
   "cell_type": "code",
   "execution_count": 7,
   "metadata": {},
   "outputs": [
    {
     "name": "stdout",
     "output_type": "stream",
     "text": [
      "degree celsius = 100.0 degree kelvin = 373.15\n"
     ]
    }
   ],
   "source": [
    "degf = 212\n",
    "degC = (degf - 32) * 5/9\n",
    "degK = (degf - 32) * 5/9 + 273.15\n",
    "print('degree celsius =',degC,'degree kelvin =',degK)"
   ]
  },
  {
   "cell_type": "markdown",
   "metadata": {},
   "source": [
    "6. demonstrating all data types in python"
   ]
  },
  {
   "cell_type": "code",
   "execution_count": 9,
   "metadata": {},
   "outputs": [
    {
     "name": "stdout",
     "output_type": "stream",
     "text": [
      "<class 'int'> <class 'float'> <class 'str'> <class 'bool'> <class 'complex'>\n"
     ]
    }
   ],
   "source": [
    "a = 5\n",
    "b = 3.2\n",
    "c = 'corona virus vaccine'\n",
    "d = True\n",
    "e = 5 + 6j\n",
    "print(type(a), type(b), type(c), type(d), type(e))"
   ]
  },
  {
   "cell_type": "markdown",
   "metadata": {},
   "source": [
    "#  7. steps to upload github assignment link\n",
    "1. Sign up on Github\n",
    "2. Click create new repository\n",
    "3. Name it LetsUpgrade AI/ML\n",
    "4. Do assignments in python and save it in day 3 folder in your device\n",
    "5. Upload the day 3 folder from your device into this LetsUpgrade AI/ML repository\n",
    "6. Click on commit changes\n",
    "7. Fill the assignment submission form and upload the correct github link of this folder\n",
    "8. Submit the form and you will get a confirmation mail from the LetsUpgrade team"
   ]
  }
 ],
 "metadata": {
  "kernelspec": {
   "display_name": "Python 3",
   "language": "python",
   "name": "python3"
  },
  "language_info": {
   "codemirror_mode": {
    "name": "ipython",
    "version": 3
   },
   "file_extension": ".py",
   "mimetype": "text/x-python",
   "name": "python",
   "nbconvert_exporter": "python",
   "pygments_lexer": "ipython3",
   "version": "3.8.3"
  }
 },
 "nbformat": 4,
 "nbformat_minor": 4
}
