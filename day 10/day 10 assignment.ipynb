{
 "cells": [
  {
   "cell_type": "markdown",
   "metadata": {},
   "source": [
    "# Hypotheses used in the detailed report"
   ]
  },
  {
   "cell_type": "markdown",
   "metadata": {},
   "source": [
    "#### Note:\n",
    "1. H0: null hypothesis\n",
    "2. H1: Alternate hypothesis"
   ]
  },
  {
   "cell_type": "markdown",
   "metadata": {},
   "source": [
    "## Hypothesis 1"
   ]
  },
  {
   "cell_type": "markdown",
   "metadata": {},
   "source": [
    "1. H0: There is no significant correlation between the attributes 'Attrition' and 'Age'.\n",
    "2. H1: There is a significant correlation between the attributes 'Attrition' and 'Age'."
   ]
  },
  {
   "cell_type": "markdown",
   "metadata": {},
   "source": [
    "## Hypothesis 2"
   ]
  },
  {
   "cell_type": "markdown",
   "metadata": {},
   "source": [
    "1. H0: There is no significant correlation between the attributes 'Attrition' and 'DistanceFromHome'.\n",
    "2. H1: There is a significant correlation between the attributes 'Attrition' and 'DistanceFromHome'."
   ]
  },
  {
   "cell_type": "markdown",
   "metadata": {},
   "source": [
    "## Hypothesis 3"
   ]
  },
  {
   "cell_type": "markdown",
   "metadata": {},
   "source": [
    "1. H0: There is no significant correlation between the attributes 'Attrition' and 'Gender'.\n",
    "2. H1: There is a significant correlation between the attributes 'Attrition' and 'Gender'."
   ]
  },
  {
   "cell_type": "markdown",
   "metadata": {},
   "source": [
    "## Hypothesis 4"
   ]
  },
  {
   "cell_type": "markdown",
   "metadata": {},
   "source": [
    "1. H0: There is no significant correlation between the attributes 'Attrition' and 'MonthlyIncome'.\n",
    "2. H1: There is a significant correlation between the attributes 'Attrition' and 'MonthlyIncome'."
   ]
  },
  {
   "cell_type": "markdown",
   "metadata": {},
   "source": [
    "## Hypothesis 5"
   ]
  },
  {
   "cell_type": "markdown",
   "metadata": {},
   "source": [
    "1. H0: There is no significant correlation between the attributes 'Attrition' and 'NumCompaniesWorked'.\n",
    "2. H1: There is a significant correlation between the attributes 'Attrition' and 'NumCompaniesWorked'."
   ]
  },
  {
   "cell_type": "markdown",
   "metadata": {},
   "source": [
    "## Hypothesis 6"
   ]
  },
  {
   "cell_type": "markdown",
   "metadata": {},
   "source": [
    "1. H0: There is no significant correlation between the attributes 'Attrition' and 'PercentSalaryHike'.\n",
    "2. H1: There is a significant correlation between the attributes 'Attrition' and 'PercentSalaryHike'."
   ]
  },
  {
   "cell_type": "markdown",
   "metadata": {},
   "source": [
    "## Hypothesis 7"
   ]
  },
  {
   "cell_type": "markdown",
   "metadata": {},
   "source": [
    "1. H0: There is no significant correlation between the attributes 'Attrition' and 'TotalWorkingYears'.\n",
    "2. H1: There is a significant correlation between the attributes 'Attrition' and 'TotalWorkingYears'."
   ]
  },
  {
   "cell_type": "markdown",
   "metadata": {},
   "source": [
    "## Hypothesis 8"
   ]
  },
  {
   "cell_type": "markdown",
   "metadata": {},
   "source": [
    "1. H0: There is no significant correlation between the attributes 'Attrition' and 'YearsAtCompany'.\n",
    "2. H1: There is a significant correlation between the attributes 'Attrition' and 'YearsAtCompany'."
   ]
  },
  {
   "cell_type": "markdown",
   "metadata": {},
   "source": [
    "## Hypothesis 9"
   ]
  },
  {
   "cell_type": "markdown",
   "metadata": {},
   "source": [
    "1. H0: There is no significant correlation between the attributes 'Attrition' and 'YearsSinceLastPromotion'.\n",
    "2. H1: There is a significant correlation between the attributes 'Attrition' and 'YearsSinceLastPromotion'."
   ]
  },
  {
   "cell_type": "markdown",
   "metadata": {},
   "source": [
    "## Hypothesis 10"
   ]
  },
  {
   "cell_type": "markdown",
   "metadata": {},
   "source": [
    "1. H0: There is no significant correlation between the attributes 'Attrition' and 'YearsWithCurrManager'.\n",
    "2. H1: There is a significant correlation between the attributes 'Attrition' and 'YearsWithCurrManager'."
   ]
  }
 ],
 "metadata": {
  "kernelspec": {
   "display_name": "Python 3",
   "language": "python",
   "name": "python3"
  },
  "language_info": {
   "codemirror_mode": {
    "name": "ipython",
    "version": 3
   },
   "file_extension": ".py",
   "mimetype": "text/x-python",
   "name": "python",
   "nbconvert_exporter": "python",
   "pygments_lexer": "ipython3",
   "version": "3.8.3"
  }
 },
 "nbformat": 4,
 "nbformat_minor": 4
}
