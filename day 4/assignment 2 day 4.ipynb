{
 "cells": [
  {
   "cell_type": "markdown",
   "metadata": {},
   "source": [
    "### Question 1\n",
    "complex number operations"
   ]
  },
  {
   "cell_type": "code",
   "execution_count": 3,
   "metadata": {},
   "outputs": [
    {
     "name": "stdout",
     "output_type": "stream",
     "text": [
      "sum = (11-3j)\n",
      "subtract = (-1+15j)\n",
      "product = (84-9j)\n",
      "divide = (-0.20512820512820515+0.6923076923076923j)\n",
      "modulus of complex number is:  7.810249675906654\n"
     ]
    }
   ],
   "source": [
    "a = 5 + 6j\n",
    "b = 6 - 9j\n",
    "print('sum =', a + b)\n",
    "print('subtract =', a - b)\n",
    "print('product =', a * b)\n",
    "print('divide =', a / b) # floor division is not possible for a complex number\n",
    "print('modulus of complex number is: ',abs(a))"
   ]
  },
  {
   "cell_type": "markdown",
   "metadata": {},
   "source": [
    "### Question 2\n",
    "range function: We can take range of numbers in using this function. This is often used in loops for iterations. Range as the name says will cover numbers from certain starting number to certain final number with given number of step size increment/decrement"
   ]
  },
  {
   "cell_type": "code",
   "execution_count": 3,
   "metadata": {},
   "outputs": [
    {
     "name": "stdout",
     "output_type": "stream",
     "text": [
      "HI\n",
      "HI\n"
     ]
    }
   ],
   "source": [
    "n = 5\n",
    "for i in range(1,n,2): # i will be 1 and 3 so only 2 prints\n",
    "    print('HI')"
   ]
  },
  {
   "cell_type": "markdown",
   "metadata": {},
   "source": [
    "### question 3"
   ]
  },
  {
   "cell_type": "code",
   "execution_count": 4,
   "metadata": {},
   "outputs": [
    {
     "name": "stdout",
     "output_type": "stream",
     "text": [
      "Division:  0.5555555555555556\n"
     ]
    }
   ],
   "source": [
    "a = 5\n",
    "b = 9\n",
    "if (b-a) > 25:\n",
    "    print('multiplication: ', a*b)\n",
    "else:\n",
    "    print('Division: ', a/b)"
   ]
  },
  {
   "cell_type": "markdown",
   "metadata": {},
   "source": [
    "### Question 4"
   ]
  },
  {
   "cell_type": "code",
   "execution_count": 5,
   "metadata": {},
   "outputs": [
    {
     "name": "stdout",
     "output_type": "stream",
     "text": [
      "2\n",
      "14\n",
      "34\n",
      "62\n",
      "98\n"
     ]
    }
   ],
   "source": [
    "a = [1,2,3,4,5,6,7,8,9,10]\n",
    "for i in a:\n",
    "    if i % 2 == 0:\n",
    "        print(i**2 - 2)"
   ]
  },
  {
   "cell_type": "markdown",
   "metadata": {},
   "source": [
    "### Question 5"
   ]
  },
  {
   "cell_type": "code",
   "execution_count": 6,
   "metadata": {},
   "outputs": [
    {
     "name": "stdout",
     "output_type": "stream",
     "text": [
      "58\n",
      "69\n",
      "65\n",
      "98\n",
      "25\n",
      "36\n",
      "25\n"
     ]
    }
   ],
   "source": [
    "a = [12,58,69,65,98,25,36,1,25,2]\n",
    "for i in a:\n",
    "    if i // 2 > 7:\n",
    "        print(i)"
   ]
  }
 ],
 "metadata": {
  "kernelspec": {
   "display_name": "Python 3",
   "language": "python",
   "name": "python3"
  },
  "language_info": {
   "codemirror_mode": {
    "name": "ipython",
    "version": 3
   },
   "file_extension": ".py",
   "mimetype": "text/x-python",
   "name": "python",
   "nbconvert_exporter": "python",
   "pygments_lexer": "ipython3",
   "version": "3.8.3"
  }
 },
 "nbformat": 4,
 "nbformat_minor": 4
}
