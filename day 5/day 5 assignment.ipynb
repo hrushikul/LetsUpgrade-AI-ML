{
 "cells": [
  {
   "cell_type": "markdown",
   "metadata": {},
   "source": [
    "### Question 1"
   ]
  },
  {
   "cell_type": "code",
   "execution_count": 1,
   "metadata": {},
   "outputs": [
    {
     "name": "stdout",
     "output_type": "stream",
     "text": [
      "[3, 5, 7, 11, 13, 17, 19, 23, 29, 31, 37, 41, 43, 47, 53, 59, 61, 67, 71, 73]\n"
     ]
    }
   ],
   "source": [
    "# first 20 non-even prime natural numbers\n",
    "i = 1\n",
    "prime = []\n",
    "while len(prime) < 20:\n",
    "    i = i + 1\n",
    "    if i % 2 != 0:\n",
    "        for j in range(2,i):\n",
    "            if i % j == 0:\n",
    "                break\n",
    "                \n",
    "        else:\n",
    "            prime.append(i)\n",
    "\n",
    "print(prime)"
   ]
  },
  {
   "cell_type": "markdown",
   "metadata": {},
   "source": [
    "### Question 2"
   ]
  },
  {
   "cell_type": "code",
   "execution_count": 2,
   "metadata": {},
   "outputs": [
    {
     "name": "stdout",
     "output_type": "stream",
     "text": [
      "True\n",
      "3\n",
      "False\n",
      "False\n",
      "abCorona Viruscd\n",
      "True\n",
      "cORONA vIRUS\n",
      "CORONA VIRUS\n",
      "corona virus\n",
      "12\n",
      "2\n",
      "True\n",
      "False\n",
      "True\n",
      "False\n",
      "False\n"
     ]
    }
   ],
   "source": [
    "# implement 15 functions of string\n",
    "a = 'Corona Virus'\n",
    "print(a.endswith('s'))\n",
    "print(a.find('o',2))\n",
    "print(a.isalnum())\n",
    "print(a.isalpha())\n",
    "print(a.join(['ab','cd',]))\n",
    "print(a.startswith('C'))\n",
    "print(a.swapcase())\n",
    "print(a.upper())\n",
    "print(a.lower())\n",
    "print(a.__len__())\n",
    "print(a.count('o'))\n",
    "print(a.isascii())\n",
    "print(a.isdecimal())\n",
    "print(a.istitle())\n",
    "print(a.islower())\n",
    "print(a.isupper())"
   ]
  },
  {
   "cell_type": "markdown",
   "metadata": {},
   "source": [
    "### Question 3"
   ]
  },
  {
   "cell_type": "code",
   "execution_count": 10,
   "metadata": {},
   "outputs": [
    {
     "name": "stdout",
     "output_type": "stream",
     "text": [
      "Enter a string: madam\n",
      "This is a palindrome:  madam\n",
      "Enter another string: damma\n",
      "These are anagrams:  madam damma\n"
     ]
    }
   ],
   "source": [
    "# display if string is anagram or palindrome or none and display message accordingly\n",
    "a = input('Enter a string: ')\n",
    "\n",
    "if a == a[::-1]:\n",
    "    print('This is a palindrome: ',a)\n",
    "\n",
    "b = input('Enter another string: ')\n",
    "\n",
    "if sorted(a) == sorted(b):\n",
    "    print('These are anagrams: ',a,b)\n",
    "\n",
    "else:\n",
    "    print('This is neither palindrome nor anagram: ',a)"
   ]
  },
  {
   "cell_type": "markdown",
   "metadata": {},
   "source": [
    "### Question 4"
   ]
  },
  {
   "cell_type": "code",
   "execution_count": 12,
   "metadata": {},
   "outputs": [
    {
     "name": "stdout",
     "output_type": "stream",
     "text": [
      "Enter a string: Dr. Darshan Ingle @AI-ML Trainer\n",
      "drdarshaningleaimltrainer\n"
     ]
    }
   ],
   "source": [
    "# removing non alphabets and conversion to lower case\n",
    "a = input('Enter a string: ')\n",
    "b = ''\n",
    "for i in a:\n",
    "    if i.isalpha():\n",
    "        b = b + i\n",
    "print(b.lower())\n"
   ]
  }
 ],
 "metadata": {
  "kernelspec": {
   "display_name": "Python 3",
   "language": "python",
   "name": "python3"
  },
  "language_info": {
   "codemirror_mode": {
    "name": "ipython",
    "version": 3
   },
   "file_extension": ".py",
   "mimetype": "text/x-python",
   "name": "python",
   "nbconvert_exporter": "python",
   "pygments_lexer": "ipython3",
   "version": "3.8.3"
  }
 },
 "nbformat": 4,
 "nbformat_minor": 4
}
